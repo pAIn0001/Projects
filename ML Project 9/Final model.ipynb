{
 "cells": [
  {
   "cell_type": "markdown",
   "id": "0cb7b92e",
   "metadata": {},
   "source": [
    "## Model Usage"
   ]
  },
  {
   "cell_type": "code",
   "execution_count": 3,
   "id": "7f8de1b7",
   "metadata": {},
   "outputs": [],
   "source": [
    "from joblib import load, dump\n",
    "import numpy as np\n",
    "model = load('Price.joblib')"
   ]
  },
  {
   "cell_type": "code",
   "execution_count": 4,
   "id": "8158aa26",
   "metadata": {},
   "outputs": [
    {
     "data": {
      "text/plain": [
       "array([31.681])"
      ]
     },
     "execution_count": 4,
     "metadata": {},
     "output_type": "execute_result"
    }
   ],
   "source": [
    "input = np.array([[0.15861, 1.456, 1.61, 0, -0.566123, 0.33979304, \n",
    "              -1.564563, 2.6111, -5.001, -1.5242, -0.0305810, 2.4993, -4.52]])\n",
    "model.predict(input)"
   ]
  },
  {
   "cell_type": "code",
   "execution_count": 5,
   "id": "d400aa35",
   "metadata": {},
   "outputs": [],
   "source": [
    "#multiply the ans with 100000"
   ]
  },
  {
   "cell_type": "code",
   "execution_count": 6,
   "id": "9af459bf",
   "metadata": {},
   "outputs": [
    {
     "data": {
      "text/plain": [
       "array([24.702])"
      ]
     },
     "execution_count": 6,
     "metadata": {},
     "output_type": "execute_result"
    }
   ],
   "source": [
    "import numpy as np\n",
    "ninput = np.array([[-0.44228927, -0.4898311 , -1.37640684, -0.27288841, -0.34321545,\n",
    "        0.36373032, -0.33092752,  1.20235683, -1.0016859 ,  0.05733231,\n",
    "       -1.21003475,  0.38110555, -0.5]])\n",
    "model.predict(ninput)"
   ]
  },
  {
   "cell_type": "code",
   "execution_count": null,
   "id": "96a22f74",
   "metadata": {},
   "outputs": [],
   "source": []
  }
 ],
 "metadata": {
  "kernelspec": {
   "display_name": "Python 3 (ipykernel)",
   "language": "python",
   "name": "python3"
  },
  "language_info": {
   "codemirror_mode": {
    "name": "ipython",
    "version": 3
   },
   "file_extension": ".py",
   "mimetype": "text/x-python",
   "name": "python",
   "nbconvert_exporter": "python",
   "pygments_lexer": "ipython3",
   "version": "3.10.1"
  }
 },
 "nbformat": 4,
 "nbformat_minor": 5
}
